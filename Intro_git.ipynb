{
 "cells": [
  {
   "cell_type": "code",
   "execution_count": null,
   "metadata": {},
   "outputs": [],
   "source": [
    "def main():\n",
    "    words = input(\"enter text\").split()\n",
    "    # create an empty dictionary\n",
    "    word_frequencies = {}\n",
    "    # loop frequency of each word\n",
    "    for word in words:\n",
    "        word_frequencies[word] = word_frequencies.get(word, 0) + 1\n",
    "    print(word_frequencies)\n",
    "    "
   ]
  }
 ],
 "metadata": {
  "kernelspec": {
   "display_name": "Python 3",
   "language": "python",
   "name": "python3"
  },
  "language_info": {
   "codemirror_mode": {
    "name": "ipython",
    "version": 3
   },
   "file_extension": ".py",
   "mimetype": "text/x-python",
   "name": "python",
   "nbconvert_exporter": "python",
   "pygments_lexer": "ipython3",
   "version": "3.8.5"
  }
 },
 "nbformat": 4,
 "nbformat_minor": 4
}
